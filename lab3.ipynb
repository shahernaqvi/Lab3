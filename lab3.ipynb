{
  "nbformat": 4,
  "nbformat_minor": 0,
  "metadata": {
    "colab": {
      "provenance": []
    },
    "kernelspec": {
      "name": "python3",
      "display_name": "Python 3"
    },
    "language_info": {
      "name": "python"
    }
  },
  "cells": [
    {
      "cell_type": "code",
      "execution_count": 3,
      "metadata": {
        "colab": {
          "base_uri": "https://localhost:8080/"
        },
        "id": "djzXBBYZSTR4",
        "outputId": "3ee3d047-0711-4c51-ca57-7b38d05a4227"
      },
      "outputs": [
        {
          "output_type": "stream",
          "name": "stdout",
          "text": [
            "The shortest path is  [(0, 0), (1, 0), (2, 0), (3, 0), (3, 1), (3, 2), (3, 3)]\n"
          ]
        }
      ],
      "source": [
        "from collections import deque\n",
        "def find_shortest_path(matrix):\n",
        " # Directions: Up, Down, Left, Right\n",
        " directions = [(-1, 0), (1, 0), (0, -1), (0, 1)]\n",
        " start = (0, 0)\n",
        " end = (3, 3)\n",
        "\n",
        " queue = deque() # Use deque for BFS\n",
        " visited = {}\n",
        " queue.append(start)\n",
        " visited[start] = \"End\"\n",
        "\n",
        " # BFS Loop\n",
        " while queue:\n",
        "  index = queue.popleft()\n",
        "  if index == end:\n",
        "    array = []\n",
        "    while index != \"End\":\n",
        "     array.append(index)\n",
        "     index = visited[index]\n",
        "    array.reverse()\n",
        "    return array\n",
        "  for direction in directions:\n",
        "   next_index = (index[0] + direction[0], index[1] + direction[1])\n",
        "   if next_index[0] < 0 or next_index[0] >= len(matrix) or next_index[1] < 0 or next_index[1] >= len(matrix[0]):\n",
        "    continue\n",
        "   if next_index in visited:\n",
        "    continue\n",
        "   queue.append(next_index)\n",
        "   visited[next_index] = index\n",
        " return none\n",
        "\n",
        "matrix = [[0,0,0,0], [0,0,0,0], [0,0,0,0], [0,0,0,0]]\n",
        "print(\"The shortest path is \" ,find_shortest_path(matrix))"
      ]
    },
    {
      "cell_type": "code",
      "source": [
        "import time\n",
        "\n",
        "def state_to_tuple(state):\n",
        "    return tuple(int(x) for x in state)\n",
        "\n",
        "def tuple_to_state(matrix):\n",
        "    return ''.join(str(x) for row in matrix for x in row)\n",
        "\n",
        "def get_moves(matrix):\n",
        "    moves = []\n",
        "    zero_pos = matrix.index(0)\n",
        "    row, col = divmod(zero_pos, 3)\n",
        "\n",
        "    directions = [(-1, 0), (1, 0), (0, -1), (0, 1)]\n",
        "\n",
        "    for dr, dc in directions:\n",
        "        new_row, new_col = row + dr, col + dc\n",
        "        if 0 <= new_row < 3 and 0 <= new_col < 3:\n",
        "            new_zero_pos = new_row * 3 + new_col\n",
        "            new_matrix = list(matrix)\n",
        "            new_matrix[zero_pos], new_matrix[new_zero_pos] = new_matrix[new_zero_pos], new_matrix[zero_pos]\n",
        "            moves.append(tuple(new_matrix))\n",
        "\n",
        "    return moves\n",
        "\n",
        "def dfs(start_state, goal_state):\n",
        "    stack = [(start_state, [])]\n",
        "    visited = set()\n",
        "\n",
        "    while stack:\n",
        "        current_state, path = stack.pop()\n",
        "\n",
        "        if current_state == goal_state:\n",
        "            return path\n",
        "\n",
        "        visited.add(current_state)\n",
        "\n",
        "        for move in get_moves(current_state):\n",
        "            if move not in visited:\n",
        "                stack.append((move, path + [move]))\n",
        "\n",
        "    return None\n",
        "\n",
        "def main():\n",
        "    start_state = input(\"Enter start State: \")\n",
        "    goal_state = input(\"Enter goal State: \")\n",
        "\n",
        "    start_tuple = state_to_tuple(start_state)\n",
        "    goal_tuple = state_to_tuple(goal_state)\n",
        "\n",
        "    print(\"-----------------\")\n",
        "    print(\"DFS Algorithm\")\n",
        "    print(\"-----------------\")\n",
        "\n",
        "    start_time = time.time()\n",
        "    solution_path = dfs(start_tuple, goal_tuple)\n",
        "    end_time = time.time()\n",
        "\n",
        "    if solution_path is not None:\n",
        "        print(\"Time taken:\", end_time - start_time, \"seconds\")\n",
        "        print(\"Path Cost:\", len(solution_path))\n",
        "        print(\"No of Nodes Visited:\", len(solution_path) + 1)\n",
        "\n",
        "        for state in solution_path:\n",
        "            matrix_formatted = [state[i:i+3] for i in range(0, len(state), 3)]\n",
        "            for row in matrix_formatted:\n",
        "                print(' '.join(map(str, row)))\n",
        "            print(\"-----\")\n",
        "    else:\n",
        "        print(\"No solution found.\")\n",
        "\n",
        "if __name__ == \"__main__\":\n",
        "    main()"
      ],
      "metadata": {
        "colab": {
          "base_uri": "https://localhost:8080/"
        },
        "id": "P6LxekhiTqZG",
        "outputId": "ed6180ce-a6b9-44c3-bfb9-cfb60925d1a2"
      },
      "execution_count": 4,
      "outputs": [
        {
          "output_type": "stream",
          "name": "stdout",
          "text": [
            "Enter start State: 120345678\n",
            "Enter goal State: 012345678\n",
            "-----------------\n",
            "DFS Algorithm\n",
            "-----------------\n",
            "Time taken: 3.719329833984375e-05 seconds\n",
            "Path Cost: 2\n",
            "No of Nodes Visited: 3\n",
            "1 0 2\n",
            "3 4 5\n",
            "6 7 8\n",
            "-----\n",
            "0 1 2\n",
            "3 4 5\n",
            "6 7 8\n",
            "-----\n"
          ]
        }
      ]
    },
    {
      "cell_type": "code",
      "source": [
        "from collections import deque\n",
        "\n",
        "class Graph:\n",
        "    def __init__(self, adj_list):\n",
        "        self.adj_list = adj_list\n",
        "\n",
        "    def get_neighbors(self, node):\n",
        "        return self.adj_list[node]\n",
        "\n",
        "    def heuristic(self, node):\n",
        "        heuristics = {\n",
        "            'The': 4,\n",
        "            'cat': 3,\n",
        "            'dog': 3,\n",
        "            'runs': 2,\n",
        "            'fast': 1,\n",
        "        }\n",
        "        return heuristics.get(node, 0)\n",
        "\n",
        "    def a_star(self, start, end):\n",
        "        open_set = set([start])\n",
        "        closed_set = set([])\n",
        "\n",
        "        cost_so_far = {}\n",
        "        cost_so_far[start] = 0\n",
        "\n",
        "        predecessors = {}\n",
        "        predecessors[start] = start\n",
        "\n",
        "        while len(open_set) > 0:\n",
        "            current = None\n",
        "            for node in open_set:\n",
        "                if current == None or cost_so_far[node] + self.heuristic(node) < cost_so_far[current] + self.heuristic(current):\n",
        "                    current = node\n",
        "\n",
        "            if current == None:\n",
        "                return None\n",
        "            if current == end:\n",
        "                path = []\n",
        "                while predecessors[current] != current:\n",
        "                    path.append(current)\n",
        "                    current = predecessors[current]\n",
        "                path.append(start)\n",
        "                path.reverse()\n",
        "\n",
        "                print(\"Sentence:\", ' '.join(path))\n",
        "                print(\"Total cost:\", cost_so_far[end])\n",
        "                return path\n",
        "            for (neighbor, weight) in self.get_neighbors(current):\n",
        "                if neighbor not in open_set and neighbor not in closed_set:\n",
        "                    open_set.add(neighbor)\n",
        "                    predecessors[neighbor] = current\n",
        "                    cost_so_far[neighbor] = cost_so_far[current] + weight\n",
        "                else:\n",
        "                    if cost_so_far[neighbor] > cost_so_far[current] + weight:\n",
        "                        cost_so_far[neighbor] = cost_so_far[current] + weight\n",
        "                        predecessors[neighbor] = current\n",
        "                        if neighbor in closed_set:\n",
        "                            closed_set.remove(neighbor)\n",
        "                            open_set.add(neighbor)\n",
        "\n",
        "            open_set.remove(current)\n",
        "            closed_set.add(current)\n",
        "\n",
        "        print(\"Path does not exist!\")\n",
        "        return None\n",
        "\n",
        "adj_list = {\n",
        "    'The': [('cat', 3), ('dog', 3)],\n",
        "    'cat': [('runs', 1)],\n",
        "    'dog': [('runs', 2)],\n",
        "    'runs': [('fast', 2)],\n",
        "    'fast': []\n",
        "}\n",
        "\n",
        "graph1 = Graph(adj_list)\n",
        "graph1.a_star('The', 'fast')\n"
      ],
      "metadata": {
        "colab": {
          "base_uri": "https://localhost:8080/"
        },
        "id": "ok5DP5WwUyzn",
        "outputId": "c21eadbb-b16c-4e32-991a-aa8ae7f8b92c"
      },
      "execution_count": 5,
      "outputs": [
        {
          "output_type": "stream",
          "name": "stdout",
          "text": [
            "Sentence: The cat runs fast\n",
            "Total cost: 6\n"
          ]
        },
        {
          "output_type": "execute_result",
          "data": {
            "text/plain": [
              "['The', 'cat', 'runs', 'fast']"
            ]
          },
          "metadata": {},
          "execution_count": 5
        }
      ]
    }
  ]
}